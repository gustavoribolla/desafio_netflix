{
  "cells": [
    {
      "cell_type": "code",
      "execution_count": 6,
      "metadata": {
        "id": "_ZTZl9k711s3"
      },
      "outputs": [],
      "source": [
        "import numpy as np\n",
        "import pandas as pd\n",
        "import random\n",
        "from scipy.linalg import svd, diagsvd\n",
        "import matplotlib.pyplot as plt\n",
        "from funcoes import *"
      ]
    },
    {
      "cell_type": "code",
      "execution_count": 7,
      "metadata": {
        "id": "w6nz0_Th7-k9"
      },
      "outputs": [],
      "source": [
        "\n",
        "# Carrega os dados do arquivo CSV para um DataFrame do Pandas\n",
        "df = pd.read_csv('archive/ratings_small.csv')\n",
        "\n",
        "# Seleciona apenas as colunas 'userId', 'movieId' e 'rating' do DataFrame\n",
        "df = df[['userId', 'movieId', 'rating']]\n",
        "\n",
        "# Pivotagem da tabela para transformá-la em uma matriz de usuários por filmes\n",
        "# onde os valores são as classificações\n",
        "df = df.pivot_table(index='userId', columns='movieId', values='rating')\n",
        "\n",
        "# Converte a matriz em um array NumPy, onde os valores NaN (não preenchidos)\n",
        "# são representados como 2.5\n",
        "A_nan = df.to_numpy()\n",
        "\n",
        "# Preenche os valores NaN da matriz original com 2.5\n",
        "A = df.fillna(2.5).to_numpy()"
      ]
    },
    {
      "cell_type": "code",
      "execution_count": 8,
      "metadata": {
        "id": "y_ef9R2I8EqV"
      },
      "outputs": [],
      "source": [
        "k = A_nan.shape[0] - 50  # Define o valor de k de acordo com os resultados do gráfico (se encontram no arquivo 'teste_100.ipynb')\n",
        "\n",
        "resultados = []  # Lista para armazenar os resultados de reconstrução\n",
        "\n",
        "# Repetir o processo 100 vezes para obter uma estimativa da eficácia do método\n",
        "for _ in range(1000):\n",
        "    # Criar uma nova matriz com ruído e extrair informações sobre o valor original\n",
        "    B, valor_original, i, j = sistema(A, A_nan)\n",
        "    \n",
        "    # Reduzir o ruído da matriz usando a função de previsão com o valor de k determinado\n",
        "    matriz_sem_ruido = previsao(B, k)\n",
        "    \n",
        "    # Calcular a diferença entre o valor original e o valor previsto na posição (i, j)\n",
        "    resultados.append(valor_original - matriz_sem_ruido[i][j])"
      ]
    },
    {
      "cell_type": "code",
      "execution_count": 9,
      "metadata": {
        "colab": {
          "base_uri": "https://localhost:8080/"
        },
        "id": "3fuUdWqJ8Frr",
        "outputId": "e8d76fc9-da74-4042-bca6-46d3658716cf"
      },
      "outputs": [
        {
          "name": "stdout",
          "output_type": "stream",
          "text": [
            "1.2503\n"
          ]
        }
      ],
      "source": [
        "# Calcula a média do valor absoluto dos resultados de reconstrução\n",
        "print(np.mean(np.abs(resultados)))"
      ]
    },
    {
      "cell_type": "code",
      "execution_count": 26,
      "metadata": {
        "colab": {
          "base_uri": "https://localhost:8080/",
          "height": 472
        },
        "id": "snakI8liQF9j",
        "outputId": "ba618f83-25c3-4ab5-a6c3-2065fb59246f"
      },
      "outputs": [
        {
          "data": {
            "image/png": "[encoded data removed]",
            "text/plain": [
              "<Figure size 640x480 with 1 Axes>"
            ]
          },
          "metadata": {},
          "output_type": "display_data"
        }
      ],
      "source": [
        "# Definir os intervalos desejados de bins de -5 a 5\n",
        "bins = list(range(-5, 6))\n",
        "\n",
        "# Plotar o histograma dos resultados de reconstrução\n",
        "plt.hist(resultados, color='darkblue', bins=bins, density=True)  # Correção: density=True\n",
        "\n",
        "# Adicionar rótulos e título\n",
        "plt.xlabel('Erro')          # Rótulo do eixo x como 'Erro'\n",
        "plt.ylabel('Frequência')    # Rótulo do eixo y como 'Frequência'\n",
        "plt.title('Distribuição de Erro')  # Título do histograma como 'Distribuição de Erro'\n",
        "\n",
        "# Exibir o histograma\n",
        "plt.show()"
      ]
    }
  ],
  "metadata": {
    "accelerator": "GPU",
    "colab": {
      "gpuType": "V100",
      "machine_shape": "hm",
      "provenance": []
    },
    "kernelspec": {
      "display_name": "Python 3",
      "name": "python3"
    },
    "language_info": {
      "name": "python"
    }
  },
  "nbformat": 4,
  "nbformat_minor": 0
}
